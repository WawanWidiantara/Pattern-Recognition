{
 "cells": [
  {
   "cell_type": "code",
   "execution_count": 85,
   "metadata": {},
   "outputs": [],
   "source": [
    "import numpy as np\n",
    "import matplotlib.pyplot as plt\n",
    "import pandas as pd"
   ]
  },
  {
   "cell_type": "code",
   "execution_count": 86,
   "metadata": {},
   "outputs": [
    {
     "data": {
      "text/html": [
       "<div>\n",
       "<style scoped>\n",
       "    .dataframe tbody tr th:only-of-type {\n",
       "        vertical-align: middle;\n",
       "    }\n",
       "\n",
       "    .dataframe tbody tr th {\n",
       "        vertical-align: top;\n",
       "    }\n",
       "\n",
       "    .dataframe thead th {\n",
       "        text-align: right;\n",
       "    }\n",
       "</style>\n",
       "<table border=\"1\" class=\"dataframe\">\n",
       "  <thead>\n",
       "    <tr style=\"text-align: right;\">\n",
       "      <th></th>\n",
       "      <th>x1</th>\n",
       "      <th>x2</th>\n",
       "      <th>y</th>\n",
       "    </tr>\n",
       "  </thead>\n",
       "  <tbody>\n",
       "    <tr>\n",
       "      <th>0</th>\n",
       "      <td>9.5</td>\n",
       "      <td>3.9</td>\n",
       "      <td>1</td>\n",
       "    </tr>\n",
       "    <tr>\n",
       "      <th>1</th>\n",
       "      <td>11.2</td>\n",
       "      <td>5.5</td>\n",
       "      <td>1</td>\n",
       "    </tr>\n",
       "    <tr>\n",
       "      <th>2</th>\n",
       "      <td>8.8</td>\n",
       "      <td>2.3</td>\n",
       "      <td>-1</td>\n",
       "    </tr>\n",
       "    <tr>\n",
       "      <th>3</th>\n",
       "      <td>10.6</td>\n",
       "      <td>5.1</td>\n",
       "      <td>-1</td>\n",
       "    </tr>\n",
       "  </tbody>\n",
       "</table>\n",
       "</div>"
      ],
      "text/plain": [
       "     x1   x2  y\n",
       "0   9.5  3.9  1\n",
       "1  11.2  5.5  1\n",
       "2   8.8  2.3 -1\n",
       "3  10.6  5.1 -1"
      ]
     },
     "execution_count": 86,
     "metadata": {},
     "output_type": "execute_result"
    }
   ],
   "source": [
    "data = [\n",
    "    ['x1', 'x2', 'y'],\n",
    "    [9.5, 3.9, 1],\n",
    "    [11.2, 5.5, 1],\n",
    "    [8.8, 2.3, -1],\n",
    "    [10.6, 5.1, -1],\n",
    "]\n",
    "\n",
    "column_names = data[0]\n",
    "data = data[1:]\n",
    "\n",
    "df = pd.DataFrame(data, columns=column_names)\n",
    "df"
   ]
  },
  {
   "cell_type": "code",
   "execution_count": 87,
   "metadata": {},
   "outputs": [],
   "source": [
    "w1 = 0.7\n",
    "w2 = 0.3\n",
    "b = 0.2\n",
    "learning_rate = 0.01"
   ]
  },
  {
   "cell_type": "code",
   "execution_count": 88,
   "metadata": {},
   "outputs": [],
   "source": [
    "def margin(w1, w2, b, data):\n",
    "    margin_values = []\n",
    "    for i in range(len(data)):\n",
    "        x1 = data['x1'][i]\n",
    "        x2 = data['x2'][i]\n",
    "        y = data['y'][i]\n",
    "        margin_values.append(y * (w1 * x1 + w2 * x2 + b))\n",
    "    \n",
    "    return margin_values"
   ]
  },
  {
   "cell_type": "code",
   "execution_count": 89,
   "metadata": {},
   "outputs": [],
   "source": [
    "def loss_margin(margin_values):\n",
    "    loss_val = 0\n",
    "    for i in range(len(margin_values)):\n",
    "        loss_val += max(0, 1 - margin_values[i])\n",
    "    return loss_val"
   ]
  },
  {
   "cell_type": "code",
   "execution_count": 90,
   "metadata": {},
   "outputs": [],
   "source": [
    "def gradien(data, margin_values):\n",
    "    gradien_values = []\n",
    "    gradien_value_w1 = 0\n",
    "    gradien_value_w2 = 0\n",
    "    gradien_value_b = 0\n",
    "    for i in range(len(data)):\n",
    "        x1 = data['x1'][i]\n",
    "        x2 = data['x2'][i]\n",
    "        y = data['y'][i]\n",
    "        gradien_value_w1 += -y * x1 * (1-margin_values[i])\n",
    "        gradien_value_w2 += -y * x2 * (1-margin_values[i])\n",
    "        gradien_value_b += -y * (1-margin_values[i])\n",
    "    gradien_values.append(gradien_value_w1)\n",
    "    gradien_values.append(gradien_value_w2)\n",
    "    gradien_values.append(gradien_value_b)\n",
    "    return gradien_values"
   ]
  },
  {
   "cell_type": "code",
   "execution_count": 91,
   "metadata": {},
   "outputs": [
    {
     "name": "stdout",
     "output_type": "stream",
     "text": [
      "Iterasi ke 1: \n",
      "w1\t: -2.72448\n",
      "w2\t: -1.1545299999999998\n",
      "b\t: -0.13909999999999995\n",
      "loss\t: 18.2\n",
      "==================================================\n",
      "Iterasi ke 2: \n",
      "w1\t: 10.388552687\n",
      "w2\t: 4.4870441880000005\n",
      "b\t: 1.1529415199999997\n",
      "loss\t: 69.52751799999999\n",
      "==================================================\n",
      "Iterasi ke 3: \n",
      "w1\t: -39.94566207618231\n",
      "w2\t: -17.0979069782353\n",
      "b\t: -3.8128091918710014\n",
      "loss\t: 239.04793215900003\n",
      "==================================================\n",
      "Iterasi ke 4: \n",
      "w1\t: 153.14276968132754\n",
      "w2\t: 65.77302092324975\n",
      "b\t: 15.23036204069648\n",
      "loss\t: 997.2211489561276\n",
      "==================================================\n",
      "Iterasi ke 5: \n",
      "w1\t: -587.6846619645671\n",
      "w2\t: -252.11347092412967\n",
      "b\t: -57.83897059824969\n",
      "loss\t: 3490.150810731195\n",
      "==================================================\n"
     ]
    }
   ],
   "source": [
    "iterasi = 5\n",
    "for i in range(iterasi):\n",
    "    margin_values = margin(w1, w2, b, df)\n",
    "    loss_margin_val = loss_margin(margin_values)\n",
    "    gradient_values = gradien(df, margin_values)\n",
    "    w1 = w1 - learning_rate * gradient_values[0]\n",
    "    w2 = w2 - learning_rate * gradient_values[1]\n",
    "    b = b - learning_rate * gradient_values[2]\n",
    "    print(f'Iterasi ke {i+1}: \\nw1\\t: {w1}\\nw2\\t: {w2}\\nb\\t: {b}\\nloss\\t: {loss_margin_val}')\n",
    "    print('='*50)    "
   ]
  }
 ],
 "metadata": {
  "kernelspec": {
   "display_name": "pyenv",
   "language": "python",
   "name": "python3"
  },
  "language_info": {
   "codemirror_mode": {
    "name": "ipython",
    "version": 3
   },
   "file_extension": ".py",
   "mimetype": "text/x-python",
   "name": "python",
   "nbconvert_exporter": "python",
   "pygments_lexer": "ipython3",
   "version": "3.11.3"
  }
 },
 "nbformat": 4,
 "nbformat_minor": 2
}
